{
 "cells": [
  {
   "cell_type": "markdown",
   "metadata": {},
   "source": [
    "# Handcrafted Molecular Fingerprint Descriptor"
   ]
  },
  {
   "cell_type": "code",
   "execution_count": 2,
   "metadata": {
    "_cell_guid": "b1076dfc-b9ad-4769-8c92-a6c4dae69d19",
    "_uuid": "8f2839f25d086af736a60e9eeb907d3b93b6e0e5",
    "execution": {
     "iopub.execute_input": "2025-01-30T09:10:30.818909Z",
     "iopub.status.busy": "2025-01-30T09:10:30.818480Z",
     "iopub.status.idle": "2025-01-30T09:10:37.477442Z",
     "shell.execute_reply": "2025-01-30T09:10:37.476079Z",
     "shell.execute_reply.started": "2025-01-30T09:10:30.818878Z"
    }
   },
   "outputs": [
    {
     "name": "stdout",
     "output_type": "stream",
     "text": [
      "Collecting jpype1\n",
      "  Downloading jpype1-1.5.2-cp310-cp310-manylinux_2_17_x86_64.manylinux2014_x86_64.whl.metadata (4.9 kB)\n",
      "Requirement already satisfied: packaging in /usr/local/lib/python3.10/dist-packages (from jpype1) (24.1)\n",
      "Downloading jpype1-1.5.2-cp310-cp310-manylinux_2_17_x86_64.manylinux2014_x86_64.whl (494 kB)\n",
      "\u001b[2K   \u001b[90m━━━━━━━━━━━━━━━━━━━━━━━━━━━━━━━━━━━━━━━━\u001b[0m \u001b[32m494.1/494.1 kB\u001b[0m \u001b[31m12.1 MB/s\u001b[0m eta \u001b[36m0:00:00\u001b[0m00:01\u001b[0m\n",
      "\u001b[?25hInstalling collected packages: jpype1\n",
      "Successfully installed jpype1-1.5.2\n"
     ]
    }
   ],
   "source": [
    "!pip install jpype1"
   ]
  },
  {
   "cell_type": "code",
   "execution_count": 3,
   "metadata": {
    "execution": {
     "iopub.execute_input": "2025-01-30T09:10:42.622230Z",
     "iopub.status.busy": "2025-01-30T09:10:42.621828Z",
     "iopub.status.idle": "2025-01-30T09:10:49.931289Z",
     "shell.execute_reply": "2025-01-30T09:10:49.929953Z",
     "shell.execute_reply.started": "2025-01-30T09:10:42.622197Z"
    }
   },
   "outputs": [
    {
     "name": "stdout",
     "output_type": "stream",
     "text": [
      "Collecting rdkit-pypi\n",
      "  Downloading rdkit_pypi-2022.9.5-cp310-cp310-manylinux_2_17_x86_64.manylinux2014_x86_64.whl.metadata (3.9 kB)\n",
      "Requirement already satisfied: numpy in /usr/local/lib/python3.10/dist-packages (from rdkit-pypi) (1.26.4)\n",
      "Requirement already satisfied: Pillow in /usr/local/lib/python3.10/dist-packages (from rdkit-pypi) (10.4.0)\n",
      "Downloading rdkit_pypi-2022.9.5-cp310-cp310-manylinux_2_17_x86_64.manylinux2014_x86_64.whl (29.4 MB)\n",
      "\u001b[2K   \u001b[90m━━━━━━━━━━━━━━━━━━━━━━━━━━━━━━━━━━━━━━━━\u001b[0m \u001b[32m29.4/29.4 MB\u001b[0m \u001b[31m35.7 MB/s\u001b[0m eta \u001b[36m0:00:00\u001b[0m00:01\u001b[0m00:01\u001b[0m\n",
      "\u001b[?25hInstalling collected packages: rdkit-pypi\n",
      "Successfully installed rdkit-pypi-2022.9.5\n"
     ]
    }
   ],
   "source": [
    "!pip install rdkit-pypi"
   ]
  },
  {
   "cell_type": "code",
   "execution_count": 4,
   "metadata": {
    "execution": {
     "iopub.execute_input": "2025-01-30T09:10:52.577656Z",
     "iopub.status.busy": "2025-01-30T09:10:52.577313Z",
     "iopub.status.idle": "2025-01-30T09:10:53.952255Z",
     "shell.execute_reply": "2025-01-30T09:10:53.950877Z",
     "shell.execute_reply.started": "2025-01-30T09:10:52.577630Z"
    }
   },
   "outputs": [
    {
     "name": "stdout",
     "output_type": "stream",
     "text": [
      "JVMStarted is success\n"
     ]
    }
   ],
   "source": [
    "from jpype import isJVMStarted, startJVM, getDefaultJVMPath, JPackage\n",
    "if not isJVMStarted():\n",
    "    cdk_path = '/kaggle/input/cdk-2-7-1/cdk-2.7.1.jar'\n",
    "    startJVM(getDefaultJVMPath(), \"-ea\", \"-Djava.class.path=%s\" % cdk_path)\n",
    "    cdk =  JPackage('org').openscience.cdk\n",
    "    print(\"JVMStarted is success\")"
   ]
  },
  {
   "cell_type": "code",
   "execution_count": 5,
   "metadata": {
    "execution": {
     "iopub.execute_input": "2025-01-30T09:11:04.150842Z",
     "iopub.status.busy": "2025-01-30T09:11:04.150363Z",
     "iopub.status.idle": "2025-01-30T09:11:04.289620Z",
     "shell.execute_reply": "2025-01-30T09:11:04.288427Z",
     "shell.execute_reply.started": "2025-01-30T09:11:04.150803Z"
    }
   },
   "outputs": [],
   "source": [
    "from rdkit import Chem\n",
    "from rdkit.Chem import AllChem\n",
    "import numpy as np\n",
    "\n",
    "def featsmi(fp_type, smis, size=1024, depth=6):\n",
    "    fg = {\n",
    "        \n",
    "        \"CKD\": cdk.fingerprint.Fingerprinter(size, depth),\n",
    "        \"CKDExt\": cdk.fingerprint.ExtendedFingerprinter(size, depth),\n",
    "        \"PubChem\": cdk.fingerprint.PubchemFingerprinter(cdk.silent.SilentChemObjectBuilder.getInstance()),\n",
    "        \"Estate\": cdk.fingerprint.EStateFingerprinter(),\n",
    "        \"FP4C\": cdk.fingerprint.SubstructureFingerprinter(),\n",
    "    }\n",
    "\n",
    "    # Handle CDK smiles parser\n",
    "    sp = cdk.smiles.SmilesParser(cdk.DefaultChemObjectBuilder.getInstance())\n",
    "\n",
    "    for i, smi in enumerate(smis):\n",
    "        if fp_type == \"RDKit\":\n",
    "            # Convert SMILES to RDKit Mol object\n",
    "            mol = Chem.MolFromSmiles(smi)\n",
    "            if mol is None:\n",
    "                raise ValueError(f\"Invalid SMILES: {smi}\")\n",
    "            \n",
    "            # Compute RDKit Morgan Fingerprint\n",
    "            fp = AllChem.GetMorganFingerprintAsBitVect(mol, radius=2, nBits=2048)\n",
    "\n",
    "            #fp = AllChem.GetMorganFingerprintAsBitVect(mol, radius=2, nBits=size)\n",
    "            feat = np.zeros((1, size), dtype=int)\n",
    "            AllChem.DataStructs.ConvertToNumpyArray(fp, feat)\n",
    "            feat = feat.flatten()\n",
    "        else:\n",
    "            # Handle CDK-based fingerprints\n",
    "            mol = sp.parseSmiles(smi)\n",
    "            fingerprinter = fg[fp_type]\n",
    "            nbit = fingerprinter.getSize()\n",
    "            if fp_type == \"KRC\" or fp_type == \"FP4C\":\n",
    "                fp = fingerprinter.getCountFingerprint(mol)\n",
    "                feat = np.array([int(fp.getCount(i)) for i in range(nbit)])\n",
    "            else:\n",
    "                fp = fingerprinter.getFingerprint(mol)\n",
    "                feat = np.array([int(fp.get(i)) for i in range(nbit)])\n",
    "\n",
    "        # Stack the features\n",
    "        if i == 0:\n",
    "            featx = feat.reshape(1, -1)\n",
    "        else:\n",
    "            featx = np.vstack((featx, feat.reshape(1, -1)))\n",
    "\n",
    "    return featx\n"
   ]
  },
  {
   "cell_type": "code",
   "execution_count": 6,
   "metadata": {
    "execution": {
     "iopub.execute_input": "2025-01-30T09:11:20.765364Z",
     "iopub.status.busy": "2025-01-30T09:11:20.764912Z",
     "iopub.status.idle": "2025-01-30T09:11:20.780490Z",
     "shell.execute_reply": "2025-01-30T09:11:20.779229Z",
     "shell.execute_reply.started": "2025-01-30T09:11:20.765330Z"
    }
   },
   "outputs": [],
   "source": [
    "from rdkit import Chem\n",
    "from rdkit.Chem import AllChem\n",
    "\n",
    "#def featex(smis, y_all):\n",
    "def featex(smis):\n",
    "    fname = []\n",
    "    fused = []\n",
    "    #y_df = pd.DataFrame(y_all)  # Convert feat0 to a DataFrame\n",
    "\n",
    "    \n",
    "  \n",
    "\n",
    "    feat1 = featsmi(\"CKD\", smis); fname.append(\"CKD\"); fused.append(1)\n",
    "    feat1_df = pd.DataFrame(feat1)  # Convert feat1 to a DataFrame\n",
    "    #feat1_df = pd.concat([feat1_df, y_df], axis=1)\n",
    "    feat1_df.to_csv(\"CKD.csv\", index=True)\n",
    "\n",
    "    feat2 = featsmi(\"CKDExt\", smis); fname.append(\"CKDExt\"); fused.append(2)\n",
    "    feat2_df = pd.DataFrame(feat2)  # Convert feat2 to a DataFrame\n",
    "    #feat2_df = pd.concat([feat2_df, y_df], axis=1)\n",
    "    feat2_df.to_csv(\"CKDExt.csv\", index=True)\n",
    "\n",
    "    feat3 = featsmi(\"PubChem\", smis); fname.append(\"PubChem\"); fused.append(3)\n",
    "    feat3_df = pd.DataFrame(feat5)  # Convert feat5 to a DataFrame\n",
    "    #feat5_df = pd.concat([feat5_df, y_df], axis=1)\n",
    "    feat3_df.to_csv(\"PubChem.csv\", index=True)\n",
    "\n",
    "    feat4 = featsmi(\"FP4C\", smis); fname.append(\"FP4C\"); fused.append(4)\n",
    "    feat4_df = pd.DataFrame(feat9)  # Convert feat9 to a DataFrame\n",
    "    #feat9_df = pd.concat([feat9_df, y_df], axis=1)\n",
    "    feat4_df.to_csv(\"FP4C.csv\", index=True)\n",
    "\n",
    "\n",
    "    \n",
    "    \n",
    "    allfeat_pos = np.hstack((\n",
    "                             feat1, \n",
    "                             feat2, \n",
    "                             feat3, \n",
    "                             feat4,\n",
    "\n",
    "                            ))\n",
    "    f = []\n",
    "    before = 0\n",
    "    for i in fused:\n",
    "        after = before + eval('feat%d.shape[1]'% (i))\n",
    "        f.append(list(range(before, after)))\n",
    "        before = after\n",
    "        \n",
    "    return allfeat_pos, f, fname "
   ]
  },
  {
   "cell_type": "code",
   "execution_count": 7,
   "metadata": {
    "execution": {
     "iopub.execute_input": "2025-01-30T09:11:25.450427Z",
     "iopub.status.busy": "2025-01-30T09:11:25.450023Z",
     "iopub.status.idle": "2025-01-30T09:22:22.691956Z",
     "shell.execute_reply": "2025-01-30T09:22:22.690917Z",
     "shell.execute_reply.started": "2025-01-30T09:11:25.450392Z"
    }
   },
   "outputs": [],
   "source": [
    "import pandas as pd\n",
    "import numpy as np\n",
    "df = pd.read_csv('Raw Training set.csv')\n",
    "\n",
    "smiles = df['Smiles'].values\n",
    "#y_all = df['cls'].values\n",
    "\n",
    "#Xall, f, fname = featex(smiles,y_all)\n",
    "Xall, f, fname = featex(smiles)"
   ]
  },
  {
   "cell_type": "markdown",
   "metadata": {},
   "source": [
    "# Mol2Vec  Molecular Descriptor"
   ]
  },
  {
   "cell_type": "code",
   "execution_count": 1,
   "metadata": {
    "execution": {
     "iopub.execute_input": "2025-01-30T09:27:24.117554Z",
     "iopub.status.busy": "2025-01-30T09:27:24.117296Z",
     "iopub.status.idle": "2025-01-30T09:27:50.425388Z",
     "shell.execute_reply": "2025-01-30T09:27:50.424022Z",
     "shell.execute_reply.started": "2025-01-30T09:27:24.117495Z"
    }
   },
   "outputs": [
    {
     "name": "stdout",
     "output_type": "stream",
     "text": [
      "Collecting rdkit-pypi\n",
      "  Downloading rdkit_pypi-2022.9.5-cp310-cp310-manylinux_2_17_x86_64.manylinux2014_x86_64.whl.metadata (3.9 kB)\n",
      "Requirement already satisfied: numpy in /usr/local/lib/python3.10/dist-packages (from rdkit-pypi) (1.26.4)\n",
      "Requirement already satisfied: Pillow in /usr/local/lib/python3.10/dist-packages (from rdkit-pypi) (10.4.0)\n",
      "Downloading rdkit_pypi-2022.9.5-cp310-cp310-manylinux_2_17_x86_64.manylinux2014_x86_64.whl (29.4 MB)\n",
      "\u001b[2K   \u001b[90m━━━━━━━━━━━━━━━━━━━━━━━━━━━━━━━━━━━━━━━━\u001b[0m \u001b[32m29.4/29.4 MB\u001b[0m \u001b[31m50.5 MB/s\u001b[0m eta \u001b[36m0:00:00\u001b[0m:00:01\u001b[0m00:01\u001b[0m\n",
      "\u001b[?25hInstalling collected packages: rdkit-pypi\n",
      "Successfully installed rdkit-pypi-2022.9.5\n",
      "Collecting pandas==0.23.0\n",
      "  Downloading pandas-0.23.0.tar.gz (13.1 MB)\n",
      "\u001b[2K     \u001b[90m━━━━━━━━━━━━━━━━━━━━━━━━━━━━━━━━━━━━━━━━\u001b[0m \u001b[32m13.1/13.1 MB\u001b[0m \u001b[31m44.1 MB/s\u001b[0m eta \u001b[36m0:00:00\u001b[0m00:01\u001b[0m0:01\u001b[0m\n",
      "\u001b[?25h  \u001b[1;31merror\u001b[0m: \u001b[1msubprocess-exited-with-error\u001b[0m\n",
      "  \n",
      "  \u001b[31m×\u001b[0m \u001b[32mpython setup.py egg_info\u001b[0m did not run successfully.\n",
      "  \u001b[31m│\u001b[0m exit code: \u001b[1;36m1\u001b[0m\n",
      "  \u001b[31m╰─>\u001b[0m See above for output.\n",
      "  \n",
      "  \u001b[1;35mnote\u001b[0m: This error originates from a subprocess, and is likely not a problem with pip.\n",
      "  Preparing metadata (setup.py) ... \u001b[?25l\u001b[?25herror\n",
      "\u001b[1;31merror\u001b[0m: \u001b[1mmetadata-generation-failed\u001b[0m\n",
      "\n",
      "\u001b[31m×\u001b[0m Encountered error while generating package metadata.\n",
      "\u001b[31m╰─>\u001b[0m See above for output.\n",
      "\n",
      "\u001b[1;35mnote\u001b[0m: This is an issue with the package mentioned above, not pip.\n",
      "\u001b[1;36mhint\u001b[0m: See above for details.\n",
      "Collecting git+https://github.com/samoturk/mol2vec\n",
      "  Cloning https://github.com/samoturk/mol2vec to /tmp/pip-req-build-gvpwreb_\n",
      "  Running command git clone --filter=blob:none --quiet https://github.com/samoturk/mol2vec /tmp/pip-req-build-gvpwreb_\n",
      "  Resolved https://github.com/samoturk/mol2vec to commit 850d944d5f48a58e26ed0264332b5741f72555aa\n",
      "  Preparing metadata (setup.py) ... \u001b[?25l\u001b[?25hdone\n",
      "Requirement already satisfied: numpy in /usr/local/lib/python3.10/dist-packages (from mol2vec==0.1) (1.26.4)\n",
      "Requirement already satisfied: gensim in /usr/local/lib/python3.10/dist-packages (from mol2vec==0.1) (4.3.3)\n",
      "Requirement already satisfied: tqdm in /usr/local/lib/python3.10/dist-packages (from mol2vec==0.1) (4.66.5)\n",
      "Requirement already satisfied: joblib in /usr/local/lib/python3.10/dist-packages (from mol2vec==0.1) (1.4.2)\n",
      "Requirement already satisfied: pandas in /usr/local/lib/python3.10/dist-packages (from mol2vec==0.1) (2.1.4)\n",
      "Requirement already satisfied: matplotlib in /usr/local/lib/python3.10/dist-packages (from mol2vec==0.1) (3.7.1)\n",
      "Requirement already satisfied: IPython in /usr/local/lib/python3.10/dist-packages (from mol2vec==0.1) (7.34.0)\n",
      "Requirement already satisfied: seaborn in /usr/local/lib/python3.10/dist-packages (from mol2vec==0.1) (0.12.2)\n",
      "Requirement already satisfied: scipy<1.14.0,>=1.7.0 in /usr/local/lib/python3.10/dist-packages (from gensim->mol2vec==0.1) (1.13.1)\n",
      "Requirement already satisfied: smart-open>=1.8.1 in /usr/local/lib/python3.10/dist-packages (from gensim->mol2vec==0.1) (7.0.4)\n",
      "Requirement already satisfied: setuptools>=18.5 in /usr/local/lib/python3.10/dist-packages (from IPython->mol2vec==0.1) (71.0.4)\n",
      "Requirement already satisfied: jedi>=0.16 in /usr/local/lib/python3.10/dist-packages (from IPython->mol2vec==0.1) (0.19.2)\n",
      "Requirement already satisfied: decorator in /usr/local/lib/python3.10/dist-packages (from IPython->mol2vec==0.1) (4.4.2)\n",
      "Requirement already satisfied: pickleshare in /usr/local/lib/python3.10/dist-packages (from IPython->mol2vec==0.1) (0.7.5)\n",
      "Requirement already satisfied: traitlets>=4.2 in /usr/local/lib/python3.10/dist-packages (from IPython->mol2vec==0.1) (5.7.1)\n",
      "Requirement already satisfied: prompt-toolkit!=3.0.0,!=3.0.1,<3.1.0,>=2.0.0 in /usr/local/lib/python3.10/dist-packages (from IPython->mol2vec==0.1) (3.0.47)\n",
      "Requirement already satisfied: pygments in /usr/local/lib/python3.10/dist-packages (from IPython->mol2vec==0.1) (2.18.0)\n",
      "Requirement already satisfied: backcall in /usr/local/lib/python3.10/dist-packages (from IPython->mol2vec==0.1) (0.2.0)\n",
      "Requirement already satisfied: matplotlib-inline in /usr/local/lib/python3.10/dist-packages (from IPython->mol2vec==0.1) (0.1.7)\n",
      "Requirement already satisfied: pexpect>4.3 in /usr/local/lib/python3.10/dist-packages (from IPython->mol2vec==0.1) (4.9.0)\n",
      "Requirement already satisfied: contourpy>=1.0.1 in /usr/local/lib/python3.10/dist-packages (from matplotlib->mol2vec==0.1) (1.3.0)\n",
      "Requirement already satisfied: cycler>=0.10 in /usr/local/lib/python3.10/dist-packages (from matplotlib->mol2vec==0.1) (0.12.1)\n",
      "Requirement already satisfied: fonttools>=4.22.0 in /usr/local/lib/python3.10/dist-packages (from matplotlib->mol2vec==0.1) (4.53.1)\n",
      "Requirement already satisfied: kiwisolver>=1.0.1 in /usr/local/lib/python3.10/dist-packages (from matplotlib->mol2vec==0.1) (1.4.7)\n",
      "Requirement already satisfied: packaging>=20.0 in /usr/local/lib/python3.10/dist-packages (from matplotlib->mol2vec==0.1) (24.1)\n",
      "Requirement already satisfied: pillow>=6.2.0 in /usr/local/lib/python3.10/dist-packages (from matplotlib->mol2vec==0.1) (10.4.0)\n",
      "Requirement already satisfied: pyparsing>=2.3.1 in /usr/local/lib/python3.10/dist-packages (from matplotlib->mol2vec==0.1) (3.1.4)\n",
      "Requirement already satisfied: python-dateutil>=2.7 in /usr/local/lib/python3.10/dist-packages (from matplotlib->mol2vec==0.1) (2.8.2)\n",
      "Requirement already satisfied: pytz>=2020.1 in /usr/local/lib/python3.10/dist-packages (from pandas->mol2vec==0.1) (2024.2)\n",
      "Requirement already satisfied: tzdata>=2022.1 in /usr/local/lib/python3.10/dist-packages (from pandas->mol2vec==0.1) (2024.1)\n",
      "Requirement already satisfied: parso<0.9.0,>=0.8.4 in /usr/local/lib/python3.10/dist-packages (from jedi>=0.16->IPython->mol2vec==0.1) (0.8.4)\n",
      "Requirement already satisfied: ptyprocess>=0.5 in /usr/local/lib/python3.10/dist-packages (from pexpect>4.3->IPython->mol2vec==0.1) (0.7.0)\n",
      "Requirement already satisfied: wcwidth in /usr/local/lib/python3.10/dist-packages (from prompt-toolkit!=3.0.0,!=3.0.1,<3.1.0,>=2.0.0->IPython->mol2vec==0.1) (0.2.13)\n",
      "Requirement already satisfied: six>=1.5 in /usr/local/lib/python3.10/dist-packages (from python-dateutil>=2.7->matplotlib->mol2vec==0.1) (1.16.0)\n",
      "Requirement already satisfied: wrapt in /usr/local/lib/python3.10/dist-packages (from smart-open>=1.8.1->gensim->mol2vec==0.1) (1.16.0)\n",
      "Building wheels for collected packages: mol2vec\n",
      "  Building wheel for mol2vec (setup.py) ... \u001b[?25l\u001b[?25hdone\n",
      "  Created wheel for mol2vec: filename=mol2vec-0.1-py3-none-any.whl size=14016 sha256=83115710af4f45dd092d81bd5964f524b0f6a47aff55fa5fde621856743dc692\n",
      "  Stored in directory: /tmp/pip-ephem-wheel-cache-9n_u0pnc/wheels/b9/bd/e0/b6dd7c5e346247e8d6944e08ca1c262a908231747f4efa539d\n",
      "Successfully built mol2vec\n",
      "Installing collected packages: mol2vec\n",
      "Successfully installed mol2vec-0.1\n"
     ]
    }
   ],
   "source": [
    "!pip install rdkit-pypi\n",
    "!pip install pandas==0.23.0\n",
    "%matplotlib inline\n",
    "\n",
    "import numpy as np\n",
    "import pandas as pd\n",
    "import matplotlib.pyplot as plt\n",
    "import warnings\n",
    "warnings.filterwarnings(\"ignore\")\n",
    "\n",
    "!pip install git+https://github.com/samoturk/mol2vec;"
   ]
  },
  {
   "cell_type": "code",
   "execution_count": 2,
   "metadata": {
    "execution": {
     "iopub.execute_input": "2025-01-30T09:28:51.389841Z",
     "iopub.status.busy": "2025-01-30T09:28:51.389392Z",
     "iopub.status.idle": "2025-01-30T09:28:51.429912Z",
     "shell.execute_reply": "2025-01-30T09:28:51.428963Z",
     "shell.execute_reply.started": "2025-01-30T09:28:51.389801Z"
    }
   },
   "outputs": [],
   "source": [
    "import pandas as pd\n",
    "# นำเข้าข้อมูล\n",
    "mdf = pd.read_csv('/kaggle/input/gamma-raw/cleaned_gamma_reg.csv')\n",
    "#mdf = mdf[mdf['Class'] != 'intermediate']\n",
    "#mdf =mdf.loc[0:3]\n",
    "#smiles_name = mdf['Name'].values\n",
    "smiles = mdf['Smiles'].values\n",
    "\n",
    "# Define y\n",
    "#y_all = mdf['cls'].values\n",
    "#y_df = pd.DataFrame(y_all)"
   ]
  },
  {
   "cell_type": "code",
   "execution_count": 4,
   "metadata": {
    "execution": {
     "iopub.execute_input": "2025-01-30T09:29:11.859129Z",
     "iopub.status.busy": "2025-01-30T09:29:11.858683Z",
     "iopub.status.idle": "2025-01-30T09:29:12.618098Z",
     "shell.execute_reply": "2025-01-30T09:29:12.617107Z",
     "shell.execute_reply.started": "2025-01-30T09:29:11.859090Z"
    }
   },
   "outputs": [
    {
     "data": {
      "image/png": "[encoded data removed]",
      "text/plain": [
       "<rdkit.Chem.rdchem.Mol at 0x7f1802d35c40>"
      ]
     },
     "execution_count": 4,
     "metadata": {},
     "output_type": "execute_result"
    }
   ],
   "source": [
    "from rdkit import Chem \n",
    "#Transforming SMILES to MOL\n",
    "mdf['mol'] = mdf['Smiles'].apply(lambda x: Chem.MolFromSmiles(x))\n",
    "\n",
    "mdf['mol'][193]"
   ]
  },
  {
   "cell_type": "code",
   "execution_count": 14,
   "metadata": {
    "execution": {
     "iopub.execute_input": "2025-01-30T09:33:42.440641Z",
     "iopub.status.busy": "2025-01-30T09:33:42.440236Z",
     "iopub.status.idle": "2025-01-30T09:33:56.276016Z",
     "shell.execute_reply": "2025-01-30T09:33:56.274953Z",
     "shell.execute_reply.started": "2025-01-30T09:33:42.440606Z"
    }
   },
   "outputs": [
    {
     "name": "stdout",
     "output_type": "stream",
     "text": [
      "Mol2Vec features saved to R9D300.csv\n"
     ]
    }
   ],
   "source": [
    "\n",
    "import numpy as np\n",
    "import pandas as pd\n",
    "from mol2vec.features import mol2alt_sentence, MolSentence, sentences2vec\n",
    "from gensim.models import Word2Vec\n",
    "from rdkit import Chem  # Import the Chem module\n",
    "\n",
    "# Assuming 'model' is the 100-dimensional Mol2Vec model (make sure you're using the 100-dimensional model)\n",
    "model = Word2Vec.load(\"model_300dim.pkl\")\n",
    "mdf['mol'] = mdf['Smiles'].apply(lambda x: Chem.MolFromSmiles(x))\n",
    "\n",
    "# Replace 'model.wv.vocab' with 'model.wv.key_to_index'\n",
    "def sentences2vec_updated(sentences, model, unseen='UNK'):\n",
    "    keys = set(model.wv.key_to_index.keys())\n",
    "    vec = []\n",
    "    for word in sentences:\n",
    "        if word in keys:\n",
    "            vec.append(model.wv[word])\n",
    "        else:\n",
    "            vec.append(model.wv[unseen])\n",
    "    return np.array(vec)  # Convert the list to a numpy array\n",
    "\n",
    "# Function to apply Mol2Vec to the entire DataFrame and save to CSV\n",
    "def save_mol2vec_features(mdf, model, output_csv='mol2vec_features.csv'):\n",
    "    features = []\n",
    "    for idx, row in mdf.iterrows():\n",
    "        # Convert SMILES to Mol object\n",
    "        mol_sentence = mol2alt_sentence(row['mol'], radius=9)\n",
    "        sentence_obj = MolSentence(mol_sentence)\n",
    "        \n",
    "        # Get the Mol2Vec feature vector for the sentence\n",
    "        vector = sentences2vec_updated(sentence_obj, model, unseen='UNK')\n",
    "        \n",
    "        # No need to truncate or pad if you're using the 100-dimensional Mol2Vec model\n",
    "        # Perform averaging across the word vectors to create a single vector\n",
    "        vector = np.mean(vector, axis=0)\n",
    "\n",
    "        # Flatten the vector into a 1D array\n",
    "        features.append(vector.flatten())  # Flatten to a 1D array for each molecule\n",
    "    \n",
    "    # Convert list of feature vectors into a DataFrame\n",
    "    feature_df = pd.DataFrame(features)\n",
    "    \n",
    "    # Save the DataFrame to a CSV file\n",
    "    #feature_df = pd.concat([feature_df, y_df], axis=1)\n",
    "    feature_df.to_csv(output_csv, index=True)\n",
    "    print(f\"Mol2Vec features saved to {output_csv}\")\n",
    "\n",
    "# Assuming 'mdf' is your DataFrame and it has a 'mol' column with SMILES strings\n",
    "# Apply the function to save features to CSV\n",
    "\n",
    "save_mol2vec_features(mdf, model, output_csv='R9D300.csv')  # Using the 100-dimensional model\n"
   ]
  },
  {
   "cell_type": "code",
   "execution_count": 9,
   "metadata": {
    "execution": {
     "iopub.execute_input": "2025-01-16T09:38:34.652390Z",
     "iopub.status.busy": "2025-01-16T09:38:34.651953Z",
     "iopub.status.idle": "2025-01-16T09:46:45.608338Z",
     "shell.execute_reply": "2025-01-16T09:46:45.607027Z",
     "shell.execute_reply.started": "2025-01-16T09:38:34.652359Z"
    }
   },
   "outputs": [
    {
     "name": "stderr",
     "output_type": "stream",
     "text": [
      "[09:38:36] Can't kekulize mol.  Unkekulized atoms: 3 4 5 6 7 10 11 12 13\n",
      "[09:38:37] Can't kekulize mol.  Unkekulized atoms: 6 7 8 9 10\n",
      "[09:38:38] Explicit valence for atom # 8 N, 4, is greater than permitted\n",
      "[09:38:38] Explicit valence for atom # 8 N, 4, is greater than permitted\n",
      "[09:38:39] Explicit valence for atom # 10 O, 3, is greater than permitted\n",
      "[09:38:39] Explicit valence for atom # 14 N, 4, is greater than permitted\n",
      "[09:38:40] Explicit valence for atom # 0 F, 2, is greater than permitted\n",
      "[09:38:40] Can't kekulize mol.  Unkekulized atoms: 1 2 3 4 6 7 9 10 11\n",
      "[09:38:41] Explicit valence for atom # 0 Cl, 2, is greater than permitted\n",
      "[09:38:41] Can't kekulize mol.  Unkekulized atoms: 1 2 3 5 6 8 9 10 11\n",
      "[09:38:42] Explicit valence for atom # 36 N, 4, is greater than permitted\n",
      "[09:38:43] Explicit valence for atom # 9 F, 2, is greater than permitted\n",
      "[09:38:43] Explicit valence for atom # 1 N, 4, is greater than permitted\n",
      "[09:38:43] Explicit valence for atom # 0 O, 8, is greater than permitted\n",
      "[09:38:44] Explicit valence for atom # 2 O, 3, is greater than permitted\n",
      "[09:38:52] Explicit valence for atom # 0 O, 3, is greater than permitted\n",
      "[09:38:53] Explicit valence for atom # 13 O, 3, is greater than permitted\n",
      "[09:38:53] Explicit valence for atom # 26 O, 3, is greater than permitted\n",
      "[09:38:54] Can't kekulize mol.  Unkekulized atoms: 3 4 5 6 7 8 9 10 11\n",
      "[09:38:54] Explicit valence for atom # 2 O, 3, is greater than permitted\n",
      "[09:38:56] Explicit valence for atom # 0 Cl, 2, is greater than permitted\n",
      "[09:38:57] Explicit valence for atom # 6 Cl, 2, is greater than permitted\n",
      "[09:38:57] Explicit valence for atom # 0 F, 2, is greater than permitted\n",
      "[09:38:57] Explicit valence for atom # 26 N, 4, is greater than permitted\n",
      "[09:38:57] Explicit valence for atom # 0 F, 2, is greater than permitted\n"
     ]
    },
    {
     "name": "stdout",
     "output_type": "stream",
     "text": [
      "Skipping invalid SMILES at index 5688\n",
      "Skipping invalid SMILES at index 10590\n",
      "Skipping invalid SMILES at index 11321\n",
      "Skipping invalid SMILES at index 13873\n",
      "Skipping invalid SMILES at index 18489\n",
      "Skipping invalid SMILES at index 19968\n",
      "Skipping invalid SMILES at index 20995\n",
      "Skipping invalid SMILES at index 22085\n",
      "Skipping invalid SMILES at index 25216\n",
      "Skipping invalid SMILES at index 26112\n",
      "Skipping invalid SMILES at index 33662\n",
      "Skipping invalid SMILES at index 35618\n",
      "Skipping invalid SMILES at index 37018\n",
      "Skipping invalid SMILES at index 38029\n",
      "Skipping invalid SMILES at index 41147\n",
      "Skipping invalid SMILES at index 61298\n",
      "Skipping invalid SMILES at index 66035\n",
      "Skipping invalid SMILES at index 66562\n",
      "Skipping invalid SMILES at index 71553\n",
      "Skipping invalid SMILES at index 71709\n",
      "Skipping invalid SMILES at index 81746\n",
      "Skipping invalid SMILES at index 85961\n",
      "Skipping invalid SMILES at index 88091\n",
      "Skipping invalid SMILES at index 89939\n",
      "Skipping invalid SMILES at index 89952\n",
      "Mol2Vec features saved to R9D100.csv\n"
     ]
    }
   ],
   "source": []
  }
 ],
 "metadata": {
  "kaggle": {
   "accelerator": "none",
   "dataSources": [
    {
     "datasetId": 161916,
     "sourceId": 383239,
     "sourceType": "datasetVersion"
    },
    {
     "datasetId": 3857966,
     "sourceId": 6690557,
     "sourceType": "datasetVersion"
    },
    {
     "datasetId": 6421344,
     "sourceId": 10367386,
     "sourceType": "datasetVersion"
    },
    {
     "datasetId": 6424082,
     "sourceId": 10371132,
     "sourceType": "datasetVersion"
    },
    {
     "datasetId": 6492136,
     "sourceId": 10485476,
     "sourceType": "datasetVersion"
    },
    {
     "datasetId": 6497455,
     "sourceId": 10494126,
     "sourceType": "datasetVersion"
    },
    {
     "datasetId": 6530022,
     "sourceId": 10554427,
     "sourceType": "datasetVersion"
    },
    {
     "datasetId": 6572636,
     "sourceId": 10616067,
     "sourceType": "datasetVersion"
    }
   ],
   "dockerImageVersionId": 30822,
   "isGpuEnabled": false,
   "isInternetEnabled": true,
   "language": "python",
   "sourceType": "notebook"
  },
  "kernelspec": {
   "display_name": "Python 3 (ipykernel)",
   "language": "python",
   "name": "python3"
  },
  "language_info": {
   "codemirror_mode": {
    "name": "ipython",
    "version": 3
   },
   "file_extension": ".py",
   "mimetype": "text/x-python",
   "name": "python",
   "nbconvert_exporter": "python",
   "pygments_lexer": "ipython3",
   "version": "3.8.20"
  }
 },
 "nbformat": 4,
 "nbformat_minor": 4
}
